{
 "cells": [
  {
   "cell_type": "markdown",
   "id": "43c0d708",
   "metadata": {},
   "source": [
    "# SyriaTel Churn Modelling"
   ]
  },
  {
   "cell_type": "markdown",
   "id": "d44e1cad",
   "metadata": {},
   "source": [
    "## Project overview\n",
    "Customer retention is a key priority for any business seeking long-term success — and this is even more critical in a highly competitive industry such as telecommunications. This project is centred on that challenge. Specifically, it aims to build a predictive model to identify SyriaTel customers who are at risk of churning — that is, discontinuing their relationship with the company.\n",
    "\n",
    "By leveraging customer-level data, the goal is to develop a binary classification model that can flag at-risk users, enabling the business to take timely and targeted action. This project applies a range of data science techniques to generate meaningful, actionable insights that support SyriaTel’s strategic priorities."
   ]
  },
  {
   "cell_type": "markdown",
   "id": "ef282f62",
   "metadata": {},
   "source": [
    "## Business Understanding\n",
    "SyriaTel is a leading telecommunications provider based in Syria. Like many companies in the telecoms space, SyriaTel operates in a market where pricing is relatively uniform across providers, making customer loyalty and retention critical competitive advantages. As acquiring new customers is often more expensive than retaining existing ones, the business is right to prioritise churn prevention.\n",
    "\n",
    "While methods such as personalised offers, loyalty programmes, and service improvements are useful, they are only effective if directed at the right customers at the right time. Identifying patterns that signal a high risk of churn would allow SyriaTel to act proactively. This makes churn prediction a crucial business tool for maintaining market share and revenue stability."
   ]
  },
  {
   "cell_type": "markdown",
   "id": "7bb41a31",
   "metadata": {},
   "source": [
    "## Problem statement\n",
    "SyriaTel is experiencing customer churn — a proportion of users who stop using its services over time. While some churn is expected, high rates can significantly hurt profitability and brand loyalty. Currently, the company lacks a system to predict which customers are most likely to churn, and why.\n",
    "\n",
    "The objective of this project is to build a machine learning classifier that predicts churn using customer demographic, account, and usage data. The output of this model will be used by business teams to target at-risk customers with timely retention strategies. Success will be measured not just by accuracy, but through business and model appropriate classification metrics.\n",
    "\n",
    "\n",
    "\n",
    "\n"
   ]
  },
  {
   "cell_type": "markdown",
   "id": "944beecb",
   "metadata": {},
   "source": [
    "## Import dataset"
   ]
  },
  {
   "cell_type": "code",
   "execution_count": 1,
   "id": "94659e8c",
   "metadata": {},
   "outputs": [],
   "source": [
    "# import relevant libraries\n",
    "import pandas as pd\n",
    "import numpy as np"
   ]
  },
  {
   "cell_type": "code",
   "execution_count": 2,
   "id": "d6c933a3",
   "metadata": {},
   "outputs": [
    {
     "data": {
      "text/html": [
       "<div>\n",
       "<style scoped>\n",
       "    .dataframe tbody tr th:only-of-type {\n",
       "        vertical-align: middle;\n",
       "    }\n",
       "\n",
       "    .dataframe tbody tr th {\n",
       "        vertical-align: top;\n",
       "    }\n",
       "\n",
       "    .dataframe thead th {\n",
       "        text-align: right;\n",
       "    }\n",
       "</style>\n",
       "<table border=\"1\" class=\"dataframe\">\n",
       "  <thead>\n",
       "    <tr style=\"text-align: right;\">\n",
       "      <th></th>\n",
       "      <th>state</th>\n",
       "      <th>account length</th>\n",
       "      <th>area code</th>\n",
       "      <th>phone number</th>\n",
       "      <th>international plan</th>\n",
       "      <th>voice mail plan</th>\n",
       "      <th>number vmail messages</th>\n",
       "      <th>total day minutes</th>\n",
       "      <th>total day calls</th>\n",
       "      <th>total day charge</th>\n",
       "      <th>...</th>\n",
       "      <th>total eve calls</th>\n",
       "      <th>total eve charge</th>\n",
       "      <th>total night minutes</th>\n",
       "      <th>total night calls</th>\n",
       "      <th>total night charge</th>\n",
       "      <th>total intl minutes</th>\n",
       "      <th>total intl calls</th>\n",
       "      <th>total intl charge</th>\n",
       "      <th>customer service calls</th>\n",
       "      <th>churn</th>\n",
       "    </tr>\n",
       "  </thead>\n",
       "  <tbody>\n",
       "    <tr>\n",
       "      <th>0</th>\n",
       "      <td>KS</td>\n",
       "      <td>128</td>\n",
       "      <td>415</td>\n",
       "      <td>382-4657</td>\n",
       "      <td>no</td>\n",
       "      <td>yes</td>\n",
       "      <td>25</td>\n",
       "      <td>265.1</td>\n",
       "      <td>110</td>\n",
       "      <td>45.07</td>\n",
       "      <td>...</td>\n",
       "      <td>99</td>\n",
       "      <td>16.78</td>\n",
       "      <td>244.7</td>\n",
       "      <td>91</td>\n",
       "      <td>11.01</td>\n",
       "      <td>10.0</td>\n",
       "      <td>3</td>\n",
       "      <td>2.70</td>\n",
       "      <td>1</td>\n",
       "      <td>False</td>\n",
       "    </tr>\n",
       "    <tr>\n",
       "      <th>1</th>\n",
       "      <td>OH</td>\n",
       "      <td>107</td>\n",
       "      <td>415</td>\n",
       "      <td>371-7191</td>\n",
       "      <td>no</td>\n",
       "      <td>yes</td>\n",
       "      <td>26</td>\n",
       "      <td>161.6</td>\n",
       "      <td>123</td>\n",
       "      <td>27.47</td>\n",
       "      <td>...</td>\n",
       "      <td>103</td>\n",
       "      <td>16.62</td>\n",
       "      <td>254.4</td>\n",
       "      <td>103</td>\n",
       "      <td>11.45</td>\n",
       "      <td>13.7</td>\n",
       "      <td>3</td>\n",
       "      <td>3.70</td>\n",
       "      <td>1</td>\n",
       "      <td>False</td>\n",
       "    </tr>\n",
       "    <tr>\n",
       "      <th>2</th>\n",
       "      <td>NJ</td>\n",
       "      <td>137</td>\n",
       "      <td>415</td>\n",
       "      <td>358-1921</td>\n",
       "      <td>no</td>\n",
       "      <td>no</td>\n",
       "      <td>0</td>\n",
       "      <td>243.4</td>\n",
       "      <td>114</td>\n",
       "      <td>41.38</td>\n",
       "      <td>...</td>\n",
       "      <td>110</td>\n",
       "      <td>10.30</td>\n",
       "      <td>162.6</td>\n",
       "      <td>104</td>\n",
       "      <td>7.32</td>\n",
       "      <td>12.2</td>\n",
       "      <td>5</td>\n",
       "      <td>3.29</td>\n",
       "      <td>0</td>\n",
       "      <td>False</td>\n",
       "    </tr>\n",
       "    <tr>\n",
       "      <th>3</th>\n",
       "      <td>OH</td>\n",
       "      <td>84</td>\n",
       "      <td>408</td>\n",
       "      <td>375-9999</td>\n",
       "      <td>yes</td>\n",
       "      <td>no</td>\n",
       "      <td>0</td>\n",
       "      <td>299.4</td>\n",
       "      <td>71</td>\n",
       "      <td>50.90</td>\n",
       "      <td>...</td>\n",
       "      <td>88</td>\n",
       "      <td>5.26</td>\n",
       "      <td>196.9</td>\n",
       "      <td>89</td>\n",
       "      <td>8.86</td>\n",
       "      <td>6.6</td>\n",
       "      <td>7</td>\n",
       "      <td>1.78</td>\n",
       "      <td>2</td>\n",
       "      <td>False</td>\n",
       "    </tr>\n",
       "    <tr>\n",
       "      <th>4</th>\n",
       "      <td>OK</td>\n",
       "      <td>75</td>\n",
       "      <td>415</td>\n",
       "      <td>330-6626</td>\n",
       "      <td>yes</td>\n",
       "      <td>no</td>\n",
       "      <td>0</td>\n",
       "      <td>166.7</td>\n",
       "      <td>113</td>\n",
       "      <td>28.34</td>\n",
       "      <td>...</td>\n",
       "      <td>122</td>\n",
       "      <td>12.61</td>\n",
       "      <td>186.9</td>\n",
       "      <td>121</td>\n",
       "      <td>8.41</td>\n",
       "      <td>10.1</td>\n",
       "      <td>3</td>\n",
       "      <td>2.73</td>\n",
       "      <td>3</td>\n",
       "      <td>False</td>\n",
       "    </tr>\n",
       "    <tr>\n",
       "      <th>...</th>\n",
       "      <td>...</td>\n",
       "      <td>...</td>\n",
       "      <td>...</td>\n",
       "      <td>...</td>\n",
       "      <td>...</td>\n",
       "      <td>...</td>\n",
       "      <td>...</td>\n",
       "      <td>...</td>\n",
       "      <td>...</td>\n",
       "      <td>...</td>\n",
       "      <td>...</td>\n",
       "      <td>...</td>\n",
       "      <td>...</td>\n",
       "      <td>...</td>\n",
       "      <td>...</td>\n",
       "      <td>...</td>\n",
       "      <td>...</td>\n",
       "      <td>...</td>\n",
       "      <td>...</td>\n",
       "      <td>...</td>\n",
       "      <td>...</td>\n",
       "    </tr>\n",
       "    <tr>\n",
       "      <th>3328</th>\n",
       "      <td>AZ</td>\n",
       "      <td>192</td>\n",
       "      <td>415</td>\n",
       "      <td>414-4276</td>\n",
       "      <td>no</td>\n",
       "      <td>yes</td>\n",
       "      <td>36</td>\n",
       "      <td>156.2</td>\n",
       "      <td>77</td>\n",
       "      <td>26.55</td>\n",
       "      <td>...</td>\n",
       "      <td>126</td>\n",
       "      <td>18.32</td>\n",
       "      <td>279.1</td>\n",
       "      <td>83</td>\n",
       "      <td>12.56</td>\n",
       "      <td>9.9</td>\n",
       "      <td>6</td>\n",
       "      <td>2.67</td>\n",
       "      <td>2</td>\n",
       "      <td>False</td>\n",
       "    </tr>\n",
       "    <tr>\n",
       "      <th>3329</th>\n",
       "      <td>WV</td>\n",
       "      <td>68</td>\n",
       "      <td>415</td>\n",
       "      <td>370-3271</td>\n",
       "      <td>no</td>\n",
       "      <td>no</td>\n",
       "      <td>0</td>\n",
       "      <td>231.1</td>\n",
       "      <td>57</td>\n",
       "      <td>39.29</td>\n",
       "      <td>...</td>\n",
       "      <td>55</td>\n",
       "      <td>13.04</td>\n",
       "      <td>191.3</td>\n",
       "      <td>123</td>\n",
       "      <td>8.61</td>\n",
       "      <td>9.6</td>\n",
       "      <td>4</td>\n",
       "      <td>2.59</td>\n",
       "      <td>3</td>\n",
       "      <td>False</td>\n",
       "    </tr>\n",
       "    <tr>\n",
       "      <th>3330</th>\n",
       "      <td>RI</td>\n",
       "      <td>28</td>\n",
       "      <td>510</td>\n",
       "      <td>328-8230</td>\n",
       "      <td>no</td>\n",
       "      <td>no</td>\n",
       "      <td>0</td>\n",
       "      <td>180.8</td>\n",
       "      <td>109</td>\n",
       "      <td>30.74</td>\n",
       "      <td>...</td>\n",
       "      <td>58</td>\n",
       "      <td>24.55</td>\n",
       "      <td>191.9</td>\n",
       "      <td>91</td>\n",
       "      <td>8.64</td>\n",
       "      <td>14.1</td>\n",
       "      <td>6</td>\n",
       "      <td>3.81</td>\n",
       "      <td>2</td>\n",
       "      <td>False</td>\n",
       "    </tr>\n",
       "    <tr>\n",
       "      <th>3331</th>\n",
       "      <td>CT</td>\n",
       "      <td>184</td>\n",
       "      <td>510</td>\n",
       "      <td>364-6381</td>\n",
       "      <td>yes</td>\n",
       "      <td>no</td>\n",
       "      <td>0</td>\n",
       "      <td>213.8</td>\n",
       "      <td>105</td>\n",
       "      <td>36.35</td>\n",
       "      <td>...</td>\n",
       "      <td>84</td>\n",
       "      <td>13.57</td>\n",
       "      <td>139.2</td>\n",
       "      <td>137</td>\n",
       "      <td>6.26</td>\n",
       "      <td>5.0</td>\n",
       "      <td>10</td>\n",
       "      <td>1.35</td>\n",
       "      <td>2</td>\n",
       "      <td>False</td>\n",
       "    </tr>\n",
       "    <tr>\n",
       "      <th>3332</th>\n",
       "      <td>TN</td>\n",
       "      <td>74</td>\n",
       "      <td>415</td>\n",
       "      <td>400-4344</td>\n",
       "      <td>no</td>\n",
       "      <td>yes</td>\n",
       "      <td>25</td>\n",
       "      <td>234.4</td>\n",
       "      <td>113</td>\n",
       "      <td>39.85</td>\n",
       "      <td>...</td>\n",
       "      <td>82</td>\n",
       "      <td>22.60</td>\n",
       "      <td>241.4</td>\n",
       "      <td>77</td>\n",
       "      <td>10.86</td>\n",
       "      <td>13.7</td>\n",
       "      <td>4</td>\n",
       "      <td>3.70</td>\n",
       "      <td>0</td>\n",
       "      <td>False</td>\n",
       "    </tr>\n",
       "  </tbody>\n",
       "</table>\n",
       "<p>3333 rows × 21 columns</p>\n",
       "</div>"
      ],
      "text/plain": [
       "     state  account length  area code phone number international plan  \\\n",
       "0       KS             128        415     382-4657                 no   \n",
       "1       OH             107        415     371-7191                 no   \n",
       "2       NJ             137        415     358-1921                 no   \n",
       "3       OH              84        408     375-9999                yes   \n",
       "4       OK              75        415     330-6626                yes   \n",
       "...    ...             ...        ...          ...                ...   \n",
       "3328    AZ             192        415     414-4276                 no   \n",
       "3329    WV              68        415     370-3271                 no   \n",
       "3330    RI              28        510     328-8230                 no   \n",
       "3331    CT             184        510     364-6381                yes   \n",
       "3332    TN              74        415     400-4344                 no   \n",
       "\n",
       "     voice mail plan  number vmail messages  total day minutes  \\\n",
       "0                yes                     25              265.1   \n",
       "1                yes                     26              161.6   \n",
       "2                 no                      0              243.4   \n",
       "3                 no                      0              299.4   \n",
       "4                 no                      0              166.7   \n",
       "...              ...                    ...                ...   \n",
       "3328             yes                     36              156.2   \n",
       "3329              no                      0              231.1   \n",
       "3330              no                      0              180.8   \n",
       "3331              no                      0              213.8   \n",
       "3332             yes                     25              234.4   \n",
       "\n",
       "      total day calls  total day charge  ...  total eve calls  \\\n",
       "0                 110             45.07  ...               99   \n",
       "1                 123             27.47  ...              103   \n",
       "2                 114             41.38  ...              110   \n",
       "3                  71             50.90  ...               88   \n",
       "4                 113             28.34  ...              122   \n",
       "...               ...               ...  ...              ...   \n",
       "3328               77             26.55  ...              126   \n",
       "3329               57             39.29  ...               55   \n",
       "3330              109             30.74  ...               58   \n",
       "3331              105             36.35  ...               84   \n",
       "3332              113             39.85  ...               82   \n",
       "\n",
       "      total eve charge  total night minutes  total night calls  \\\n",
       "0                16.78                244.7                 91   \n",
       "1                16.62                254.4                103   \n",
       "2                10.30                162.6                104   \n",
       "3                 5.26                196.9                 89   \n",
       "4                12.61                186.9                121   \n",
       "...                ...                  ...                ...   \n",
       "3328             18.32                279.1                 83   \n",
       "3329             13.04                191.3                123   \n",
       "3330             24.55                191.9                 91   \n",
       "3331             13.57                139.2                137   \n",
       "3332             22.60                241.4                 77   \n",
       "\n",
       "      total night charge  total intl minutes  total intl calls  \\\n",
       "0                  11.01                10.0                 3   \n",
       "1                  11.45                13.7                 3   \n",
       "2                   7.32                12.2                 5   \n",
       "3                   8.86                 6.6                 7   \n",
       "4                   8.41                10.1                 3   \n",
       "...                  ...                 ...               ...   \n",
       "3328               12.56                 9.9                 6   \n",
       "3329                8.61                 9.6                 4   \n",
       "3330                8.64                14.1                 6   \n",
       "3331                6.26                 5.0                10   \n",
       "3332               10.86                13.7                 4   \n",
       "\n",
       "      total intl charge  customer service calls  churn  \n",
       "0                  2.70                       1  False  \n",
       "1                  3.70                       1  False  \n",
       "2                  3.29                       0  False  \n",
       "3                  1.78                       2  False  \n",
       "4                  2.73                       3  False  \n",
       "...                 ...                     ...    ...  \n",
       "3328               2.67                       2  False  \n",
       "3329               2.59                       3  False  \n",
       "3330               3.81                       2  False  \n",
       "3331               1.35                       2  False  \n",
       "3332               3.70                       0  False  \n",
       "\n",
       "[3333 rows x 21 columns]"
      ]
     },
     "execution_count": 2,
     "metadata": {},
     "output_type": "execute_result"
    }
   ],
   "source": [
    "# read customer data from csv into a dataframe and preview it\n",
    "df = pd.read_csv('telecom_churn.csv')\n",
    "df"
   ]
  },
  {
   "cell_type": "markdown",
   "id": "48cfd350",
   "metadata": {},
   "source": [
    "## Exploratory Data Analysis (EDA)"
   ]
  },
  {
   "cell_type": "code",
   "execution_count": 3,
   "id": "7c303a6b",
   "metadata": {
    "scrolled": true
   },
   "outputs": [
    {
     "name": "stdout",
     "output_type": "stream",
     "text": [
      "<class 'pandas.core.frame.DataFrame'>\n",
      "RangeIndex: 3333 entries, 0 to 3332\n",
      "Data columns (total 21 columns):\n",
      " #   Column                  Non-Null Count  Dtype  \n",
      "---  ------                  --------------  -----  \n",
      " 0   state                   3333 non-null   object \n",
      " 1   account length          3333 non-null   int64  \n",
      " 2   area code               3333 non-null   int64  \n",
      " 3   phone number            3333 non-null   object \n",
      " 4   international plan      3333 non-null   object \n",
      " 5   voice mail plan         3333 non-null   object \n",
      " 6   number vmail messages   3333 non-null   int64  \n",
      " 7   total day minutes       3333 non-null   float64\n",
      " 8   total day calls         3333 non-null   int64  \n",
      " 9   total day charge        3333 non-null   float64\n",
      " 10  total eve minutes       3333 non-null   float64\n",
      " 11  total eve calls         3333 non-null   int64  \n",
      " 12  total eve charge        3333 non-null   float64\n",
      " 13  total night minutes     3333 non-null   float64\n",
      " 14  total night calls       3333 non-null   int64  \n",
      " 15  total night charge      3333 non-null   float64\n",
      " 16  total intl minutes      3333 non-null   float64\n",
      " 17  total intl calls        3333 non-null   int64  \n",
      " 18  total intl charge       3333 non-null   float64\n",
      " 19  customer service calls  3333 non-null   int64  \n",
      " 20  churn                   3333 non-null   bool   \n",
      "dtypes: bool(1), float64(8), int64(8), object(4)\n",
      "memory usage: 524.2+ KB\n"
     ]
    }
   ],
   "source": [
    "# overview data\n",
    "df.info()"
   ]
  },
  {
   "cell_type": "markdown",
   "id": "faa4f0a0",
   "metadata": {},
   "source": [
    "Here we can see that there are 3333 records, and the dataset has no null values."
   ]
  },
  {
   "cell_type": "markdown",
   "id": "dd16953a",
   "metadata": {},
   "source": [
    "**Column descriptions**\n",
    "\n",
    "- state: The state of the customer.  \n",
    "- account length: The length of the account in days or months.  \n",
    "- area code: The area code of the customer's phone number.  \n",
    "- phone number: The phone number of the customer.  \n",
    "- international plan: Whether the customer has an international plan or not.  \n",
    "- voice mail plan: Whether the customer has a voicemail plan or not.  \n",
    "- number vmail messages: The number of voicemail messages the customer has.  \n",
    "- total day minutes: Total minutes of day calls.  \n",
    "- total day calls: Total number of day calls.  \n",
    "- total day charge: Total charge for the day calls.  \n",
    "- total eve minutes: Total minutes of evening calls.  \n",
    "- total eve calls: Total number of evening calls.  \n",
    "- total eve charge: Total charge for the evening calls.  \n",
    "- total night minutes: Total minutes of night calls.\n",
    "- total night calls: Total number of night calls.\n",
    "- total night charge: Total charge for the night calls.\n",
    "- total intl minutes: Total minutes of international calls.\n",
    "- total intl calls: Total number of international calls.\n",
    "- total intl charge: Total charge for the international calls.\n",
    "- customer service calls: Number of times the customer called customer service.\n",
    "- churn: Whether the customer churned or not (True/False)."
   ]
  },
  {
   "cell_type": "code",
   "execution_count": 4,
   "id": "5955a307",
   "metadata": {},
   "outputs": [
    {
     "data": {
      "text/html": [
       "<div>\n",
       "<style scoped>\n",
       "    .dataframe tbody tr th:only-of-type {\n",
       "        vertical-align: middle;\n",
       "    }\n",
       "\n",
       "    .dataframe tbody tr th {\n",
       "        vertical-align: top;\n",
       "    }\n",
       "\n",
       "    .dataframe thead th {\n",
       "        text-align: right;\n",
       "    }\n",
       "</style>\n",
       "<table border=\"1\" class=\"dataframe\">\n",
       "  <thead>\n",
       "    <tr style=\"text-align: right;\">\n",
       "      <th></th>\n",
       "      <th>account length</th>\n",
       "      <th>area code</th>\n",
       "      <th>number vmail messages</th>\n",
       "      <th>total day minutes</th>\n",
       "      <th>total day calls</th>\n",
       "      <th>total day charge</th>\n",
       "      <th>total eve minutes</th>\n",
       "      <th>total eve calls</th>\n",
       "      <th>total eve charge</th>\n",
       "      <th>total night minutes</th>\n",
       "      <th>total night calls</th>\n",
       "      <th>total night charge</th>\n",
       "      <th>total intl minutes</th>\n",
       "      <th>total intl calls</th>\n",
       "      <th>total intl charge</th>\n",
       "      <th>customer service calls</th>\n",
       "    </tr>\n",
       "  </thead>\n",
       "  <tbody>\n",
       "    <tr>\n",
       "      <th>count</th>\n",
       "      <td>3333.000000</td>\n",
       "      <td>3333.000000</td>\n",
       "      <td>3333.000000</td>\n",
       "      <td>3333.000000</td>\n",
       "      <td>3333.000000</td>\n",
       "      <td>3333.000000</td>\n",
       "      <td>3333.000000</td>\n",
       "      <td>3333.000000</td>\n",
       "      <td>3333.000000</td>\n",
       "      <td>3333.000000</td>\n",
       "      <td>3333.000000</td>\n",
       "      <td>3333.000000</td>\n",
       "      <td>3333.000000</td>\n",
       "      <td>3333.000000</td>\n",
       "      <td>3333.000000</td>\n",
       "      <td>3333.000000</td>\n",
       "    </tr>\n",
       "    <tr>\n",
       "      <th>mean</th>\n",
       "      <td>101.064806</td>\n",
       "      <td>437.182418</td>\n",
       "      <td>8.099010</td>\n",
       "      <td>179.775098</td>\n",
       "      <td>100.435644</td>\n",
       "      <td>30.562307</td>\n",
       "      <td>200.980348</td>\n",
       "      <td>100.114311</td>\n",
       "      <td>17.083540</td>\n",
       "      <td>200.872037</td>\n",
       "      <td>100.107711</td>\n",
       "      <td>9.039325</td>\n",
       "      <td>10.237294</td>\n",
       "      <td>4.479448</td>\n",
       "      <td>2.764581</td>\n",
       "      <td>1.562856</td>\n",
       "    </tr>\n",
       "    <tr>\n",
       "      <th>std</th>\n",
       "      <td>39.822106</td>\n",
       "      <td>42.371290</td>\n",
       "      <td>13.688365</td>\n",
       "      <td>54.467389</td>\n",
       "      <td>20.069084</td>\n",
       "      <td>9.259435</td>\n",
       "      <td>50.713844</td>\n",
       "      <td>19.922625</td>\n",
       "      <td>4.310668</td>\n",
       "      <td>50.573847</td>\n",
       "      <td>19.568609</td>\n",
       "      <td>2.275873</td>\n",
       "      <td>2.791840</td>\n",
       "      <td>2.461214</td>\n",
       "      <td>0.753773</td>\n",
       "      <td>1.315491</td>\n",
       "    </tr>\n",
       "    <tr>\n",
       "      <th>min</th>\n",
       "      <td>1.000000</td>\n",
       "      <td>408.000000</td>\n",
       "      <td>0.000000</td>\n",
       "      <td>0.000000</td>\n",
       "      <td>0.000000</td>\n",
       "      <td>0.000000</td>\n",
       "      <td>0.000000</td>\n",
       "      <td>0.000000</td>\n",
       "      <td>0.000000</td>\n",
       "      <td>23.200000</td>\n",
       "      <td>33.000000</td>\n",
       "      <td>1.040000</td>\n",
       "      <td>0.000000</td>\n",
       "      <td>0.000000</td>\n",
       "      <td>0.000000</td>\n",
       "      <td>0.000000</td>\n",
       "    </tr>\n",
       "    <tr>\n",
       "      <th>25%</th>\n",
       "      <td>74.000000</td>\n",
       "      <td>408.000000</td>\n",
       "      <td>0.000000</td>\n",
       "      <td>143.700000</td>\n",
       "      <td>87.000000</td>\n",
       "      <td>24.430000</td>\n",
       "      <td>166.600000</td>\n",
       "      <td>87.000000</td>\n",
       "      <td>14.160000</td>\n",
       "      <td>167.000000</td>\n",
       "      <td>87.000000</td>\n",
       "      <td>7.520000</td>\n",
       "      <td>8.500000</td>\n",
       "      <td>3.000000</td>\n",
       "      <td>2.300000</td>\n",
       "      <td>1.000000</td>\n",
       "    </tr>\n",
       "    <tr>\n",
       "      <th>50%</th>\n",
       "      <td>101.000000</td>\n",
       "      <td>415.000000</td>\n",
       "      <td>0.000000</td>\n",
       "      <td>179.400000</td>\n",
       "      <td>101.000000</td>\n",
       "      <td>30.500000</td>\n",
       "      <td>201.400000</td>\n",
       "      <td>100.000000</td>\n",
       "      <td>17.120000</td>\n",
       "      <td>201.200000</td>\n",
       "      <td>100.000000</td>\n",
       "      <td>9.050000</td>\n",
       "      <td>10.300000</td>\n",
       "      <td>4.000000</td>\n",
       "      <td>2.780000</td>\n",
       "      <td>1.000000</td>\n",
       "    </tr>\n",
       "    <tr>\n",
       "      <th>75%</th>\n",
       "      <td>127.000000</td>\n",
       "      <td>510.000000</td>\n",
       "      <td>20.000000</td>\n",
       "      <td>216.400000</td>\n",
       "      <td>114.000000</td>\n",
       "      <td>36.790000</td>\n",
       "      <td>235.300000</td>\n",
       "      <td>114.000000</td>\n",
       "      <td>20.000000</td>\n",
       "      <td>235.300000</td>\n",
       "      <td>113.000000</td>\n",
       "      <td>10.590000</td>\n",
       "      <td>12.100000</td>\n",
       "      <td>6.000000</td>\n",
       "      <td>3.270000</td>\n",
       "      <td>2.000000</td>\n",
       "    </tr>\n",
       "    <tr>\n",
       "      <th>max</th>\n",
       "      <td>243.000000</td>\n",
       "      <td>510.000000</td>\n",
       "      <td>51.000000</td>\n",
       "      <td>350.800000</td>\n",
       "      <td>165.000000</td>\n",
       "      <td>59.640000</td>\n",
       "      <td>363.700000</td>\n",
       "      <td>170.000000</td>\n",
       "      <td>30.910000</td>\n",
       "      <td>395.000000</td>\n",
       "      <td>175.000000</td>\n",
       "      <td>17.770000</td>\n",
       "      <td>20.000000</td>\n",
       "      <td>20.000000</td>\n",
       "      <td>5.400000</td>\n",
       "      <td>9.000000</td>\n",
       "    </tr>\n",
       "  </tbody>\n",
       "</table>\n",
       "</div>"
      ],
      "text/plain": [
       "       account length    area code  number vmail messages  total day minutes  \\\n",
       "count     3333.000000  3333.000000            3333.000000        3333.000000   \n",
       "mean       101.064806   437.182418               8.099010         179.775098   \n",
       "std         39.822106    42.371290              13.688365          54.467389   \n",
       "min          1.000000   408.000000               0.000000           0.000000   \n",
       "25%         74.000000   408.000000               0.000000         143.700000   \n",
       "50%        101.000000   415.000000               0.000000         179.400000   \n",
       "75%        127.000000   510.000000              20.000000         216.400000   \n",
       "max        243.000000   510.000000              51.000000         350.800000   \n",
       "\n",
       "       total day calls  total day charge  total eve minutes  total eve calls  \\\n",
       "count      3333.000000       3333.000000        3333.000000      3333.000000   \n",
       "mean        100.435644         30.562307         200.980348       100.114311   \n",
       "std          20.069084          9.259435          50.713844        19.922625   \n",
       "min           0.000000          0.000000           0.000000         0.000000   \n",
       "25%          87.000000         24.430000         166.600000        87.000000   \n",
       "50%         101.000000         30.500000         201.400000       100.000000   \n",
       "75%         114.000000         36.790000         235.300000       114.000000   \n",
       "max         165.000000         59.640000         363.700000       170.000000   \n",
       "\n",
       "       total eve charge  total night minutes  total night calls  \\\n",
       "count       3333.000000          3333.000000        3333.000000   \n",
       "mean          17.083540           200.872037         100.107711   \n",
       "std            4.310668            50.573847          19.568609   \n",
       "min            0.000000            23.200000          33.000000   \n",
       "25%           14.160000           167.000000          87.000000   \n",
       "50%           17.120000           201.200000         100.000000   \n",
       "75%           20.000000           235.300000         113.000000   \n",
       "max           30.910000           395.000000         175.000000   \n",
       "\n",
       "       total night charge  total intl minutes  total intl calls  \\\n",
       "count         3333.000000         3333.000000       3333.000000   \n",
       "mean             9.039325           10.237294          4.479448   \n",
       "std              2.275873            2.791840          2.461214   \n",
       "min              1.040000            0.000000          0.000000   \n",
       "25%              7.520000            8.500000          3.000000   \n",
       "50%              9.050000           10.300000          4.000000   \n",
       "75%             10.590000           12.100000          6.000000   \n",
       "max             17.770000           20.000000         20.000000   \n",
       "\n",
       "       total intl charge  customer service calls  \n",
       "count        3333.000000             3333.000000  \n",
       "mean            2.764581                1.562856  \n",
       "std             0.753773                1.315491  \n",
       "min             0.000000                0.000000  \n",
       "25%             2.300000                1.000000  \n",
       "50%             2.780000                1.000000  \n",
       "75%             3.270000                2.000000  \n",
       "max             5.400000                9.000000  "
      ]
     },
     "execution_count": 4,
     "metadata": {},
     "output_type": "execute_result"
    }
   ],
   "source": [
    "# summarise dataframe\n",
    "df.describe()"
   ]
  },
  {
   "cell_type": "code",
   "execution_count": 5,
   "id": "87c4c504",
   "metadata": {},
   "outputs": [],
   "source": [
    "# import relevant libraries\n",
    "import matplotlib.pyplot as plt\n",
    "import seaborn as sns"
   ]
  },
  {
   "cell_type": "markdown",
   "id": "8927a1c7",
   "metadata": {},
   "source": [
    "### Churn/Target Variable"
   ]
  },
  {
   "cell_type": "code",
   "execution_count": 6,
   "id": "aa0e1a1a",
   "metadata": {},
   "outputs": [
    {
     "data": {
      "text/plain": [
       "False    0.855086\n",
       "True     0.144914\n",
       "Name: churn, dtype: float64"
      ]
     },
     "execution_count": 6,
     "metadata": {},
     "output_type": "execute_result"
    }
   ],
   "source": [
    "# first want to check churn value counts as that is the target variable\n",
    "df['churn'].value_counts(normalize = True)"
   ]
  },
  {
   "cell_type": "code",
   "execution_count": 7,
   "id": "fba58b90",
   "metadata": {},
   "outputs": [
    {
     "data": {
      "text/plain": [
       "<AxesSubplot:title={'center':'Churn counts'}>"
      ]
     },
     "execution_count": 7,
     "metadata": {},
     "output_type": "execute_result"
    },
    {
     "data": {
      "image/png": "[encoded data removed]",
      "text/plain": [
       "<Figure size 432x288 with 1 Axes>"
      ]
     },
     "metadata": {
      "needs_background": "light"
     },
     "output_type": "display_data"
    }
   ],
   "source": [
    "# plot the data\n",
    "df['churn'].value_counts(normalize = True).plot(kind = 'bar', title = 'Churn counts')"
   ]
  },
  {
   "cell_type": "markdown",
   "id": "251ca640",
   "metadata": {},
   "source": [
    "**Class imbalance**  \n",
    "Distribution of churn is imbalanced. Over 85% of customers didn't churn. This will be a key factor considered when modelling."
   ]
  },
  {
   "cell_type": "markdown",
   "id": "da9dd4cc",
   "metadata": {},
   "source": [
    "### Independent variables"
   ]
  },
  {
   "cell_type": "code",
   "execution_count": 8,
   "id": "780c892a",
   "metadata": {},
   "outputs": [
    {
     "data": {
      "text/plain": [
       "['account length',\n",
       " 'number vmail messages',\n",
       " 'total day minutes',\n",
       " 'total day calls',\n",
       " 'total day charge',\n",
       " 'total eve minutes',\n",
       " 'total eve calls',\n",
       " 'total eve charge',\n",
       " 'total night minutes',\n",
       " 'total night calls',\n",
       " 'total night charge',\n",
       " 'total intl minutes',\n",
       " 'total intl calls',\n",
       " 'total intl charge',\n",
       " 'customer service calls']"
      ]
     },
     "execution_count": 8,
     "metadata": {},
     "output_type": "execute_result"
    }
   ],
   "source": [
    "# Seperate the categorical and numerical columns for further \n",
    "cat_cols = df[['state', 'churn', 'area code', 'phone number', 'international plan', 'voice mail plan']]\n",
    "num_cols = []\n",
    "for cols in df.columns:\n",
    "    if cols not in cat_cols:\n",
    "        num_cols.append(cols)\n",
    "    else:\n",
    "        continue\n",
    "        \n",
    "num_cols"
   ]
  },
  {
   "cell_type": "markdown",
   "id": "40e7d084",
   "metadata": {},
   "source": [
    "#### Distribution of  numerical columns"
   ]
  },
  {
   "cell_type": "code",
   "execution_count": 9,
   "id": "937bf91c",
   "metadata": {},
   "outputs": [
    {
     "data": {
      "image/png": "[encoded data removed]",
      "text/plain": [
       "<Figure size 432x216 with 1 Axes>"
      ]
     },
     "metadata": {
      "needs_background": "light"
     },
     "output_type": "display_data"
    },
    {
     "data": {
      "image/png": "[encoded data removed]",
      "text/plain": [
       "<Figure size 432x216 with 1 Axes>"
      ]
     },
     "metadata": {
      "needs_background": "light"
     },
     "output_type": "display_data"
    },
    {
     "data": {
      "image/png": "[encoded data removed]",
      "text/plain": [
       "<Figure size 432x216 with 1 Axes>"
      ]
     },
     "metadata": {
      "needs_background": "light"
     },
     "output_type": "display_data"
    },
    {
     "data": {
      "image/png": "[encoded data removed]",
      "text/plain": [
       "<Figure size 432x216 with 1 Axes>"
      ]
     },
     "metadata": {
      "needs_background": "light"
     },
     "output_type": "display_data"
    },
    {
     "data": {
      "image/png": "[encoded data removed]",
      "text/plain": [
       "<Figure size 432x216 with 1 Axes>"
      ]
     },
     "metadata": {
      "needs_background": "light"
     },
     "output_type": "display_data"
    },
    {
     "data": {
      "image/png": "[encoded data removed]",
      "text/plain": [
       "<Figure size 432x216 with 1 Axes>"
      ]
     },
     "metadata": {
      "needs_background": "light"
     },
     "output_type": "display_data"
    },
    {
     "data": {
      "image/png": "[encoded data removed]",
      "text/plain": [
       "<Figure size 432x216 with 1 Axes>"
      ]
     },
     "metadata": {
      "needs_background": "light"
     },
     "output_type": "display_data"
    },
    {
     "data": {
      "image/png": "[encoded data removed]",
      "text/plain": [
       "<Figure size 432x216 with 1 Axes>"
      ]
     },
     "metadata": {
      "needs_background": "light"
     },
     "output_type": "display_data"
    },
    {
     "data": {
      "image/png": "[encoded data removed]",
      "text/plain": [
       "<Figure size 432x216 with 1 Axes>"
      ]
     },
     "metadata": {
      "needs_background": "light"
     },
     "output_type": "display_data"
    },
    {
     "data": {
      "image/png": "[encoded data removed]",
      "text/plain": [
       "<Figure size 432x216 with 1 Axes>"
      ]
     },
     "metadata": {
      "needs_background": "light"
     },
     "output_type": "display_data"
    },
    {
     "data": {
      "image/png": "[encoded data removed]",
      "text/plain": [
       "<Figure size 432x216 with 1 Axes>"
      ]
     },
     "metadata": {
      "needs_background": "light"
     },
     "output_type": "display_data"
    },
    {
     "data": {
      "image/png": "[encoded data removed]",
      "text/plain": [
       "<Figure size 432x216 with 1 Axes>"
      ]
     },
     "metadata": {
      "needs_background": "light"
     },
     "output_type": "display_data"
    },
    {
     "data": {
      "image/png": "[encoded data removed]",
      "text/plain": [
       "<Figure size 432x216 with 1 Axes>"
      ]
     },
     "metadata": {
      "needs_background": "light"
     },
     "output_type": "display_data"
    },
    {
     "data": {
      "image/png": "[encoded data removed]",
      "text/plain": [
       "<Figure size 432x216 with 1 Axes>"
      ]
     },
     "metadata": {
      "needs_background": "light"
     },
     "output_type": "display_data"
    },
    {
     "data": {
      "image/png": "[encoded data removed]",
      "text/plain": [
       "<Figure size 432x216 with 1 Axes>"
      ]
     },
     "metadata": {
      "needs_background": "light"
     },
     "output_type": "display_data"
    }
   ],
   "source": [
    "# plot the distribution of the numerical columns\n",
    "for col in num_cols:\n",
    "    plt.figure(figsize=(6, 3))\n",
    "    sns.histplot(data=df, x=col, kde=True)\n",
    "    plt.title(f'Distribution of {col}')\n",
    "    plt.tight_layout()\n",
    "    plt.show()"
   ]
  },
  {
   "cell_type": "markdown",
   "id": "4fd83e47",
   "metadata": {},
   "source": [
    "The different columns are normally distributed except:\n",
    "- 'customer service calls'\n",
    "- 'total intl calls'\n",
    "- 'number vmail messages'\n",
    "\n",
    "This could be something to consider during modelling."
   ]
  },
  {
   "cell_type": "markdown",
   "id": "479dcdaf",
   "metadata": {},
   "source": [
    "#### Correlation"
   ]
  },
  {
   "cell_type": "code",
   "execution_count": 10,
   "id": "a8d7c7a8",
   "metadata": {},
   "outputs": [
    {
     "data": {
      "text/plain": [
       "churn                     1.000000\n",
       "customer service calls    0.208750\n",
       "total day minutes         0.205151\n",
       "total day charge          0.205151\n",
       "total eve minutes         0.092796\n",
       "total eve charge          0.092786\n",
       "total intl charge         0.068259\n",
       "total intl minutes        0.068239\n",
       "total night charge        0.035496\n",
       "total night minutes       0.035493\n",
       "total day calls           0.018459\n",
       "account length            0.016541\n",
       "total eve calls           0.009233\n",
       "total night calls         0.006141\n",
       "total intl calls         -0.052844\n",
       "number vmail messages    -0.089728\n",
       "Name: churn, dtype: float64"
      ]
     },
     "execution_count": 10,
     "metadata": {},
     "output_type": "execute_result"
    }
   ],
   "source": [
    "# see the correlation between churn and numerical columns\n",
    "df[num_cols + ['churn']].corr()['churn'].sort_values(ascending=False)"
   ]
  },
  {
   "cell_type": "markdown",
   "id": "05106343",
   "metadata": {},
   "source": [
    "None of the variables have shown a particularly strong correlation to churn. However, it has shown there is strong correlation between different variables i.e. total day minutes and total day charge. This is something to take note of for modelling."
   ]
  },
  {
   "cell_type": "markdown",
   "id": "0ac304c3",
   "metadata": {},
   "source": [
    "#### Churn rate for categorical columns"
   ]
  },
  {
   "cell_type": "code",
   "execution_count": 11,
   "id": "dde9aa21",
   "metadata": {},
   "outputs": [
    {
     "name": "stdout",
     "output_type": "stream",
     "text": [
      "\n",
      "Churn Rate by state:\n",
      "state\n",
      "CA    0.264706\n",
      "NJ    0.264706\n",
      "TX    0.250000\n",
      "MD    0.242857\n",
      "SC    0.233333\n",
      "MI    0.219178\n",
      "MS    0.215385\n",
      "NV    0.212121\n",
      "WA    0.212121\n",
      "ME    0.209677\n",
      "MT    0.205882\n",
      "AR    0.200000\n",
      "KS    0.185714\n",
      "NY    0.180723\n",
      "MN    0.178571\n",
      "PA    0.177778\n",
      "MA    0.169231\n",
      "CT    0.162162\n",
      "NC    0.161765\n",
      "NH    0.160714\n",
      "GA    0.148148\n",
      "DE    0.147541\n",
      "OK    0.147541\n",
      "OR    0.141026\n",
      "UT    0.138889\n",
      "CO    0.136364\n",
      "KY    0.135593\n",
      "SD    0.133333\n",
      "OH    0.128205\n",
      "FL    0.126984\n",
      "IN    0.126761\n",
      "ID    0.123288\n",
      "WY    0.116883\n",
      "MO    0.111111\n",
      "VT    0.109589\n",
      "AL    0.100000\n",
      "ND    0.096774\n",
      "NM    0.096774\n",
      "WV    0.094340\n",
      "TN    0.094340\n",
      "DC    0.092593\n",
      "RI    0.092308\n",
      "WI    0.089744\n",
      "IL    0.086207\n",
      "NE    0.081967\n",
      "LA    0.078431\n",
      "IA    0.068182\n",
      "VA    0.064935\n",
      "AZ    0.062500\n",
      "AK    0.057692\n",
      "HI    0.056604\n",
      "Name: churn, dtype: float64\n",
      "\n",
      "Churn Rate by churn:\n",
      "churn\n",
      "True      True\n",
      "False    False\n",
      "Name: churn, dtype: bool\n",
      "\n",
      "Churn Rate by area code:\n",
      "area code\n",
      "510    0.148810\n",
      "408    0.145585\n",
      "415    0.142598\n",
      "Name: churn, dtype: float64\n",
      "\n",
      "Churn Rate by phone number:\n",
      "phone number\n",
      "339-6637     True\n",
      "405-6189     True\n",
      "340-8323     True\n",
      "382-8079     True\n",
      "360-1596     True\n",
      "            ...  \n",
      "388-5850    False\n",
      "388-4879    False\n",
      "388-4571    False\n",
      "388-4459    False\n",
      "327-1058    False\n",
      "Name: churn, Length: 3333, dtype: bool\n",
      "\n",
      "Churn Rate by international plan:\n",
      "international plan\n",
      "yes    0.424149\n",
      "no     0.114950\n",
      "Name: churn, dtype: float64\n",
      "\n",
      "Churn Rate by voice mail plan:\n",
      "voice mail plan\n",
      "no     0.167151\n",
      "yes    0.086768\n",
      "Name: churn, dtype: float64\n"
     ]
    }
   ],
   "source": [
    "# calculate the churn rate for categorical columns\n",
    "for col in cat_cols:\n",
    "    churn_rate = df.groupby(col)['churn'].mean().sort_values(ascending=False)\n",
    "    print(f'\\nChurn Rate by {col}:\\n{churn_rate}')"
   ]
  },
  {
   "cell_type": "markdown",
   "id": "3f1b1d37",
   "metadata": {},
   "source": [
    "`'international plan'` and `'voice mail plan'` played a factor"
   ]
  },
  {
   "cell_type": "markdown",
   "id": "7b408fca",
   "metadata": {},
   "source": [
    "## Data preprocessing"
   ]
  },
  {
   "cell_type": "markdown",
   "id": "ebaf8911",
   "metadata": {},
   "source": [
    "### Drop unnecessary columns\n",
    "This includes the 'charge' columns as they are almost perfectly correlated with the correponding minutes columns. Furthermore, we will be dropping the `phone number` column as it is a unique identifier that won't support with modelling. Additionally, the `state` column will be dropped as the sheer number of states makes it impractical to create dummy variables for, and the locational aspect can be viewed on a less granular scale using `area code`."
   ]
  },
  {
   "cell_type": "code",
   "execution_count": 12,
   "id": "44572d0f",
   "metadata": {},
   "outputs": [
    {
     "data": {
      "text/html": [
       "<div>\n",
       "<style scoped>\n",
       "    .dataframe tbody tr th:only-of-type {\n",
       "        vertical-align: middle;\n",
       "    }\n",
       "\n",
       "    .dataframe tbody tr th {\n",
       "        vertical-align: top;\n",
       "    }\n",
       "\n",
       "    .dataframe thead th {\n",
       "        text-align: right;\n",
       "    }\n",
       "</style>\n",
       "<table border=\"1\" class=\"dataframe\">\n",
       "  <thead>\n",
       "    <tr style=\"text-align: right;\">\n",
       "      <th></th>\n",
       "      <th>account length</th>\n",
       "      <th>area code</th>\n",
       "      <th>international plan</th>\n",
       "      <th>voice mail plan</th>\n",
       "      <th>number vmail messages</th>\n",
       "      <th>total day minutes</th>\n",
       "      <th>total day calls</th>\n",
       "      <th>total eve minutes</th>\n",
       "      <th>total eve calls</th>\n",
       "      <th>total night minutes</th>\n",
       "      <th>total night calls</th>\n",
       "      <th>total intl minutes</th>\n",
       "      <th>total intl calls</th>\n",
       "      <th>customer service calls</th>\n",
       "      <th>churn</th>\n",
       "    </tr>\n",
       "  </thead>\n",
       "  <tbody>\n",
       "    <tr>\n",
       "      <th>0</th>\n",
       "      <td>128</td>\n",
       "      <td>415</td>\n",
       "      <td>no</td>\n",
       "      <td>yes</td>\n",
       "      <td>25</td>\n",
       "      <td>265.1</td>\n",
       "      <td>110</td>\n",
       "      <td>197.4</td>\n",
       "      <td>99</td>\n",
       "      <td>244.7</td>\n",
       "      <td>91</td>\n",
       "      <td>10.0</td>\n",
       "      <td>3</td>\n",
       "      <td>1</td>\n",
       "      <td>False</td>\n",
       "    </tr>\n",
       "    <tr>\n",
       "      <th>1</th>\n",
       "      <td>107</td>\n",
       "      <td>415</td>\n",
       "      <td>no</td>\n",
       "      <td>yes</td>\n",
       "      <td>26</td>\n",
       "      <td>161.6</td>\n",
       "      <td>123</td>\n",
       "      <td>195.5</td>\n",
       "      <td>103</td>\n",
       "      <td>254.4</td>\n",
       "      <td>103</td>\n",
       "      <td>13.7</td>\n",
       "      <td>3</td>\n",
       "      <td>1</td>\n",
       "      <td>False</td>\n",
       "    </tr>\n",
       "    <tr>\n",
       "      <th>2</th>\n",
       "      <td>137</td>\n",
       "      <td>415</td>\n",
       "      <td>no</td>\n",
       "      <td>no</td>\n",
       "      <td>0</td>\n",
       "      <td>243.4</td>\n",
       "      <td>114</td>\n",
       "      <td>121.2</td>\n",
       "      <td>110</td>\n",
       "      <td>162.6</td>\n",
       "      <td>104</td>\n",
       "      <td>12.2</td>\n",
       "      <td>5</td>\n",
       "      <td>0</td>\n",
       "      <td>False</td>\n",
       "    </tr>\n",
       "    <tr>\n",
       "      <th>3</th>\n",
       "      <td>84</td>\n",
       "      <td>408</td>\n",
       "      <td>yes</td>\n",
       "      <td>no</td>\n",
       "      <td>0</td>\n",
       "      <td>299.4</td>\n",
       "      <td>71</td>\n",
       "      <td>61.9</td>\n",
       "      <td>88</td>\n",
       "      <td>196.9</td>\n",
       "      <td>89</td>\n",
       "      <td>6.6</td>\n",
       "      <td>7</td>\n",
       "      <td>2</td>\n",
       "      <td>False</td>\n",
       "    </tr>\n",
       "    <tr>\n",
       "      <th>4</th>\n",
       "      <td>75</td>\n",
       "      <td>415</td>\n",
       "      <td>yes</td>\n",
       "      <td>no</td>\n",
       "      <td>0</td>\n",
       "      <td>166.7</td>\n",
       "      <td>113</td>\n",
       "      <td>148.3</td>\n",
       "      <td>122</td>\n",
       "      <td>186.9</td>\n",
       "      <td>121</td>\n",
       "      <td>10.1</td>\n",
       "      <td>3</td>\n",
       "      <td>3</td>\n",
       "      <td>False</td>\n",
       "    </tr>\n",
       "    <tr>\n",
       "      <th>...</th>\n",
       "      <td>...</td>\n",
       "      <td>...</td>\n",
       "      <td>...</td>\n",
       "      <td>...</td>\n",
       "      <td>...</td>\n",
       "      <td>...</td>\n",
       "      <td>...</td>\n",
       "      <td>...</td>\n",
       "      <td>...</td>\n",
       "      <td>...</td>\n",
       "      <td>...</td>\n",
       "      <td>...</td>\n",
       "      <td>...</td>\n",
       "      <td>...</td>\n",
       "      <td>...</td>\n",
       "    </tr>\n",
       "    <tr>\n",
       "      <th>3328</th>\n",
       "      <td>192</td>\n",
       "      <td>415</td>\n",
       "      <td>no</td>\n",
       "      <td>yes</td>\n",
       "      <td>36</td>\n",
       "      <td>156.2</td>\n",
       "      <td>77</td>\n",
       "      <td>215.5</td>\n",
       "      <td>126</td>\n",
       "      <td>279.1</td>\n",
       "      <td>83</td>\n",
       "      <td>9.9</td>\n",
       "      <td>6</td>\n",
       "      <td>2</td>\n",
       "      <td>False</td>\n",
       "    </tr>\n",
       "    <tr>\n",
       "      <th>3329</th>\n",
       "      <td>68</td>\n",
       "      <td>415</td>\n",
       "      <td>no</td>\n",
       "      <td>no</td>\n",
       "      <td>0</td>\n",
       "      <td>231.1</td>\n",
       "      <td>57</td>\n",
       "      <td>153.4</td>\n",
       "      <td>55</td>\n",
       "      <td>191.3</td>\n",
       "      <td>123</td>\n",
       "      <td>9.6</td>\n",
       "      <td>4</td>\n",
       "      <td>3</td>\n",
       "      <td>False</td>\n",
       "    </tr>\n",
       "    <tr>\n",
       "      <th>3330</th>\n",
       "      <td>28</td>\n",
       "      <td>510</td>\n",
       "      <td>no</td>\n",
       "      <td>no</td>\n",
       "      <td>0</td>\n",
       "      <td>180.8</td>\n",
       "      <td>109</td>\n",
       "      <td>288.8</td>\n",
       "      <td>58</td>\n",
       "      <td>191.9</td>\n",
       "      <td>91</td>\n",
       "      <td>14.1</td>\n",
       "      <td>6</td>\n",
       "      <td>2</td>\n",
       "      <td>False</td>\n",
       "    </tr>\n",
       "    <tr>\n",
       "      <th>3331</th>\n",
       "      <td>184</td>\n",
       "      <td>510</td>\n",
       "      <td>yes</td>\n",
       "      <td>no</td>\n",
       "      <td>0</td>\n",
       "      <td>213.8</td>\n",
       "      <td>105</td>\n",
       "      <td>159.6</td>\n",
       "      <td>84</td>\n",
       "      <td>139.2</td>\n",
       "      <td>137</td>\n",
       "      <td>5.0</td>\n",
       "      <td>10</td>\n",
       "      <td>2</td>\n",
       "      <td>False</td>\n",
       "    </tr>\n",
       "    <tr>\n",
       "      <th>3332</th>\n",
       "      <td>74</td>\n",
       "      <td>415</td>\n",
       "      <td>no</td>\n",
       "      <td>yes</td>\n",
       "      <td>25</td>\n",
       "      <td>234.4</td>\n",
       "      <td>113</td>\n",
       "      <td>265.9</td>\n",
       "      <td>82</td>\n",
       "      <td>241.4</td>\n",
       "      <td>77</td>\n",
       "      <td>13.7</td>\n",
       "      <td>4</td>\n",
       "      <td>0</td>\n",
       "      <td>False</td>\n",
       "    </tr>\n",
       "  </tbody>\n",
       "</table>\n",
       "<p>3333 rows × 15 columns</p>\n",
       "</div>"
      ],
      "text/plain": [
       "      account length  area code international plan voice mail plan  \\\n",
       "0                128        415                 no             yes   \n",
       "1                107        415                 no             yes   \n",
       "2                137        415                 no              no   \n",
       "3                 84        408                yes              no   \n",
       "4                 75        415                yes              no   \n",
       "...              ...        ...                ...             ...   \n",
       "3328             192        415                 no             yes   \n",
       "3329              68        415                 no              no   \n",
       "3330              28        510                 no              no   \n",
       "3331             184        510                yes              no   \n",
       "3332              74        415                 no             yes   \n",
       "\n",
       "      number vmail messages  total day minutes  total day calls  \\\n",
       "0                        25              265.1              110   \n",
       "1                        26              161.6              123   \n",
       "2                         0              243.4              114   \n",
       "3                         0              299.4               71   \n",
       "4                         0              166.7              113   \n",
       "...                     ...                ...              ...   \n",
       "3328                     36              156.2               77   \n",
       "3329                      0              231.1               57   \n",
       "3330                      0              180.8              109   \n",
       "3331                      0              213.8              105   \n",
       "3332                     25              234.4              113   \n",
       "\n",
       "      total eve minutes  total eve calls  total night minutes  \\\n",
       "0                 197.4               99                244.7   \n",
       "1                 195.5              103                254.4   \n",
       "2                 121.2              110                162.6   \n",
       "3                  61.9               88                196.9   \n",
       "4                 148.3              122                186.9   \n",
       "...                 ...              ...                  ...   \n",
       "3328              215.5              126                279.1   \n",
       "3329              153.4               55                191.3   \n",
       "3330              288.8               58                191.9   \n",
       "3331              159.6               84                139.2   \n",
       "3332              265.9               82                241.4   \n",
       "\n",
       "      total night calls  total intl minutes  total intl calls  \\\n",
       "0                    91                10.0                 3   \n",
       "1                   103                13.7                 3   \n",
       "2                   104                12.2                 5   \n",
       "3                    89                 6.6                 7   \n",
       "4                   121                10.1                 3   \n",
       "...                 ...                 ...               ...   \n",
       "3328                 83                 9.9                 6   \n",
       "3329                123                 9.6                 4   \n",
       "3330                 91                14.1                 6   \n",
       "3331                137                 5.0                10   \n",
       "3332                 77                13.7                 4   \n",
       "\n",
       "      customer service calls  churn  \n",
       "0                          1  False  \n",
       "1                          1  False  \n",
       "2                          0  False  \n",
       "3                          2  False  \n",
       "4                          3  False  \n",
       "...                      ...    ...  \n",
       "3328                       2  False  \n",
       "3329                       3  False  \n",
       "3330                       2  False  \n",
       "3331                       2  False  \n",
       "3332                       0  False  \n",
       "\n",
       "[3333 rows x 15 columns]"
      ]
     },
     "execution_count": 12,
     "metadata": {},
     "output_type": "execute_result"
    }
   ],
   "source": [
    "# drop unnecessary columns and preview dataframe\n",
    "model_df = df.drop(columns = ['total day charge', 'total eve charge', 'total intl charge', 'total night charge',\n",
    "                        'phone number', 'state'])\n",
    "model_df"
   ]
  },
  {
   "cell_type": "code",
   "execution_count": 13,
   "id": "9b61f86d",
   "metadata": {},
   "outputs": [
    {
     "data": {
      "text/plain": [
       "0       0\n",
       "1       0\n",
       "2       0\n",
       "3       0\n",
       "4       0\n",
       "       ..\n",
       "3328    0\n",
       "3329    0\n",
       "3330    0\n",
       "3331    0\n",
       "3332    0\n",
       "Name: churn, Length: 3333, dtype: int64"
      ]
     },
     "execution_count": 13,
     "metadata": {},
     "output_type": "execute_result"
    }
   ],
   "source": [
    "# Convert churn to binary int variable\n",
    "model_df['churn'] = model_df['churn'].astype(int)\n",
    "model_df['churn']"
   ]
  },
  {
   "cell_type": "markdown",
   "id": "9d46191b",
   "metadata": {},
   "source": [
    "### Train test split\n",
    "The dataset is split into training and testing sets to evaluate the model's performance on unseen data and ensure generalisation."
   ]
  },
  {
   "cell_type": "code",
   "execution_count": 14,
   "id": "2bd21892",
   "metadata": {},
   "outputs": [
    {
     "name": "stdout",
     "output_type": "stream",
     "text": [
      "Shape of X_train: (2333, 14)\n",
      "Shape of y_train: (2333,)\n",
      "Shape of X_test: (1000, 14)\n",
      "Shape of y_test: (1000,)\n"
     ]
    }
   ],
   "source": [
    "# import train_test_split\n",
    "from sklearn.model_selection import train_test_split\n",
    "\n",
    "# set independent and target variables\n",
    "X = model_df.drop(['churn'], axis=1)\n",
    "y = model_df['churn']\n",
    "\n",
    "# set up train_test_split\n",
    "X_train, X_test, y_train, y_test = train_test_split(X, y, test_size=0.3, random_state=42)\n",
    "\n",
    "# display the shape of the training and testing sets\n",
    "print(f'Shape of X_train: {X_train.shape}')\n",
    "print(f'Shape of y_train: {y_train.shape}')\n",
    "print(f'Shape of X_test: {X_test.shape}')\n",
    "print(f'Shape of y_test: {y_test.shape}')"
   ]
  },
  {
   "cell_type": "markdown",
   "id": "dd40e179",
   "metadata": {},
   "source": [
    "### One hot encode columns\n",
    "We will one hot encode the catgeorical columns: `area code`, `international plan` and `voice mail plan`. This is to convert categorical variables into a numerical format suitable for machine learning algorithms. The encoded dataframes that result from this process will be used on models like decision trees which require categorical columns to be encoded numerically to allow feature values to be compared."
   ]
  },
  {
   "cell_type": "code",
   "execution_count": 15,
   "id": "8953eb59",
   "metadata": {},
   "outputs": [
    {
     "data": {
      "text/plain": [
       "['account length',\n",
       " 'number vmail messages',\n",
       " 'total day minutes',\n",
       " 'total day calls',\n",
       " 'total eve minutes',\n",
       " 'total eve calls',\n",
       " 'total night minutes',\n",
       " 'total night calls',\n",
       " 'total intl minutes',\n",
       " 'total intl calls',\n",
       " 'customer service calls']"
      ]
     },
     "execution_count": 15,
     "metadata": {},
     "output_type": "execute_result"
    }
   ],
   "source": [
    "# define categorical and numerical columns, to one hot encode categorical columns\n",
    "model_cat_cols = ['area code', 'international plan', 'voice mail plan']\n",
    "model_num_cols = []\n",
    "\n",
    "for cols in model_df.columns:\n",
    "    if cols == 'churn':\n",
    "        continue\n",
    "    elif cols not in model_cat_cols:\n",
    "        model_num_cols.append(cols)\n",
    "    else:\n",
    "        continue\n",
    "        \n",
    "model_num_cols"
   ]
  },
  {
   "cell_type": "code",
   "execution_count": 16,
   "id": "2cf6cab5",
   "metadata": {},
   "outputs": [],
   "source": [
    "# import OneHotEncoder and initialise it\n",
    "from sklearn.preprocessing import OneHotEncoder\n",
    "\n",
    "ohe = OneHotEncoder(drop=\"first\", sparse=False)"
   ]
  },
  {
   "cell_type": "code",
   "execution_count": 17,
   "id": "03b7dfe0",
   "metadata": {},
   "outputs": [],
   "source": [
    "# fit to train data\n",
    "ohe.fit(X_train[model_cat_cols])\n",
    "\n",
    "# transform train and test data\n",
    "X_train_ohe = ohe.transform(X_train[model_cat_cols])\n",
    "X_test_ohe = ohe.transform(X_test[model_cat_cols])\n",
    "\n",
    "# convert from array to dataframe\n",
    "X_train_ohe_df = pd.DataFrame(X_train_ohe, columns = ohe.get_feature_names(model_cat_cols), index=X_train.index)\n",
    "X_test_ohe_df = pd.DataFrame(X_test_ohe, columns = ohe.get_feature_names(model_cat_cols), index=X_test.index)\n",
    "\n",
    "# drop untransformed columns and replace with transformed columns\n",
    "X_train_encoded = pd.concat([X_train.drop(model_cat_cols, axis=1), X_train_ohe_df], axis=1)\n",
    "X_test_encoded = pd.concat([X_test.drop(model_cat_cols, axis=1), X_test_ohe_df], axis=1)"
   ]
  },
  {
   "cell_type": "markdown",
   "id": "4ad92d6d",
   "metadata": {},
   "source": [
    "### Scaling\n",
    "Feature scaling is performed to ensure that all numerical variables contributed equally to the model's performance. The scaled (and encoded) dataframe resulting from this will be used on models like logistic regression, which is a linear model, making it sensitive to the scale of the various feature values."
   ]
  },
  {
   "cell_type": "code",
   "execution_count": 18,
   "id": "be28626b",
   "metadata": {},
   "outputs": [],
   "source": [
    "# import StandardScaler\n",
    "from sklearn.preprocessing import StandardScaler\n",
    "\n",
    "# scale features\n",
    "scaler = StandardScaler()"
   ]
  },
  {
   "cell_type": "code",
   "execution_count": 19,
   "id": "b38434a6",
   "metadata": {},
   "outputs": [],
   "source": [
    "# create dataframe to be scaled\n",
    "X_train_scaled = X_train_encoded.copy()\n",
    "X_test_scaled = X_test_encoded.copy()\n",
    "\n",
    "# fit to train data\n",
    "scaler.fit(X_train_encoded[model_num_cols])\n",
    "\n",
    "# transform train and test data\n",
    "X_train_scaled[model_num_cols] = scaler.transform(X_train_scaled[model_num_cols])\n",
    "X_test_scaled[model_num_cols] = scaler.transform(X_test_scaled[model_num_cols])"
   ]
  },
  {
   "cell_type": "markdown",
   "id": "7b784809",
   "metadata": {},
   "source": [
    "## Modelling"
   ]
  },
  {
   "cell_type": "markdown",
   "id": "1d7a1057",
   "metadata": {},
   "source": [
    "### Classification function\n",
    "The business context suggests that the priority is to not miss out on any customers that are likely to churn, even if that means occasional false alarms. This means **recall** will be a primary classification metric used to compare models. However, **precision** will also be important to ensure that retention efforts are not wasted on customers unlikely to leave.\n",
    "\n",
    "From a data context perspective, the classes are very imbalanced, so accuracy will not be favoured highly when evaluating model performance. It will, however, remain a useful metric for checking for **overfitting or underfitting** when compared across the train and test datasets.\n",
    "\n",
    "Instead, the **AUC (Area Under the ROC Curve) score** will serve as a key evaluation metric. AUC reflects a model’s ability to rank churners higher than non-churners across all thresholds, making it particularly valuable in imbalanced classification tasks. "
   ]
  },
  {
   "cell_type": "code",
   "execution_count": 20,
   "id": "73afe029",
   "metadata": {},
   "outputs": [],
   "source": [
    "# import classification_report and roc_auc_score\n",
    "from sklearn.metrics import classification_report, roc_auc_score\n",
    "\n",
    "def evaluate_model(model, X_train, X_test, y_train, y_test):\n",
    "\n",
    "    # make predictions\n",
    "    y_pred = model.predict(X_test)\n",
    "    y_train_pred = model.predict(X_train)\n",
    "\n",
    "    # probabilities for AUC\n",
    "    y_scores = model.predict_proba(X_test)[:, 1]\n",
    "\n",
    "    # classification report\n",
    "    print(\"Classification Report:\")\n",
    "    print(classification_report(y_test, y_pred))\n",
    "\n",
    "    # AUC score\n",
    "    auc_score = roc_auc_score(y_test, y_scores)\n",
    "    print(f\"AUC Score: {auc_score}\")\n",
    "    \n",
    "    # overfitting check\n",
    "    print('\\ntrain accuracy: ', model.score(X_train, y_train))\n",
    "    print('test accuracy: ', model.score(X_test, y_test))"
   ]
  },
  {
   "cell_type": "markdown",
   "id": "a8e2a866",
   "metadata": {},
   "source": [
    "### Baseline model - Logistic Regression"
   ]
  },
  {
   "cell_type": "code",
   "execution_count": 21,
   "id": "2d3738da",
   "metadata": {},
   "outputs": [
    {
     "data": {
      "text/plain": [
       "LogisticRegression(max_iter=1000, random_state=42)"
      ]
     },
     "execution_count": 21,
     "metadata": {},
     "output_type": "execute_result"
    }
   ],
   "source": [
    "# import LogisticRegression\n",
    "from sklearn.linear_model import LogisticRegression\n",
    "\n",
    "# initialise and fit model\n",
    "logreg = LogisticRegression(max_iter=1000, random_state=42)\n",
    "logreg.fit(X_train_scaled, y_train)"
   ]
  },
  {
   "cell_type": "code",
   "execution_count": 22,
   "id": "f6af436e",
   "metadata": {},
   "outputs": [
    {
     "name": "stdout",
     "output_type": "stream",
     "text": [
      "Classification Report:\n",
      "              precision    recall  f1-score   support\n",
      "\n",
      "           0       0.88      0.97      0.93       857\n",
      "           1       0.57      0.22      0.32       143\n",
      "\n",
      "    accuracy                           0.86      1000\n",
      "   macro avg       0.73      0.60      0.62      1000\n",
      "weighted avg       0.84      0.86      0.84      1000\n",
      "\n",
      "AUC Score: 0.8279083810005631\n",
      "\n",
      "train accuracy:  0.861551650235748\n",
      "test accuracy:  0.865\n"
     ]
    }
   ],
   "source": [
    "# evaluate the model\n",
    "evaluate_model(logreg, X_train_scaled, X_test_scaled, y_train, y_test)"
   ]
  },
  {
   "cell_type": "markdown",
   "id": "e172e397",
   "metadata": {},
   "source": [
    "**Evaluation**  \n",
    "In the baseline logistic regression model, the performance on the minority class (churners) is notably poor, with a precision of **0.57** and a recall of just **0.22**. In contrast, the model performs very well on the majority class (non-churners), which highlights the impact of class imbalance. Since recall is particularly important in this context — missing customers who are likely to churn can limit SyriaTel’s ability to act in time — this performance is insufficient for our goals. The next step is to address the class imbalance, initially through model parameter tuning (e.g. class weighting), to improve the model’s sensitivity to churners."
   ]
  },
  {
   "cell_type": "markdown",
   "id": "88d8bf67",
   "metadata": {},
   "source": [
    "## Further models"
   ]
  },
  {
   "cell_type": "markdown",
   "id": "23e8c2bf",
   "metadata": {},
   "source": [
    "### Logistic Regression - Class balanced"
   ]
  },
  {
   "cell_type": "code",
   "execution_count": 23,
   "id": "663abea7",
   "metadata": {},
   "outputs": [
    {
     "data": {
      "text/plain": [
       "LogisticRegression(class_weight='balanced', max_iter=1000, random_state=42)"
      ]
     },
     "execution_count": 23,
     "metadata": {},
     "output_type": "execute_result"
    }
   ],
   "source": [
    "# initialise and fit model\n",
    "logreg_bal = LogisticRegression(class_weight='balanced', max_iter=1000, random_state=42)\n",
    "logreg_bal.fit(X_train_scaled, y_train)"
   ]
  },
  {
   "cell_type": "code",
   "execution_count": 24,
   "id": "8fcc24e1",
   "metadata": {},
   "outputs": [
    {
     "name": "stdout",
     "output_type": "stream",
     "text": [
      "Classification Report:\n",
      "              precision    recall  f1-score   support\n",
      "\n",
      "           0       0.96      0.77      0.86       857\n",
      "           1       0.37      0.80      0.51       143\n",
      "\n",
      "    accuracy                           0.78      1000\n",
      "   macro avg       0.66      0.79      0.68      1000\n",
      "weighted avg       0.87      0.78      0.81      1000\n",
      "\n",
      "AUC Score: 0.8327227032011163\n",
      "\n",
      "train accuracy:  0.7625375053579083\n",
      "test accuracy:  0.777\n"
     ]
    }
   ],
   "source": [
    "# evaluate the model\n",
    "evaluate_model(logreg_bal, X_train_scaled, X_test_scaled, y_train, y_test)"
   ]
  },
  {
   "cell_type": "markdown",
   "id": "50edcfc1",
   "metadata": {},
   "source": [
    "**Evaluation**  \n",
    "Introducing class balancing significantly improved the model’s recall for churners, which aligns with our objective of identifying at-risk customers more reliably. While precision decreased, this was an acceptable trade-off in order to minimise false negatives — it is more important to flag potential churners, even if some turn out to be false alarms. Given the linear nature of logistic regression, the next step is to explore a different classification model — decision trees — which may capture more complex or non-linear patterns within the data."
   ]
  },
  {
   "cell_type": "markdown",
   "id": "fb1d96b1",
   "metadata": {},
   "source": [
    "### Decision Tree"
   ]
  },
  {
   "cell_type": "code",
   "execution_count": 25,
   "id": "73fded1a",
   "metadata": {},
   "outputs": [
    {
     "data": {
      "text/plain": [
       "DecisionTreeClassifier(criterion='entropy', random_state=42)"
      ]
     },
     "execution_count": 25,
     "metadata": {},
     "output_type": "execute_result"
    }
   ],
   "source": [
    "# import DecisionTreeClassifier\n",
    "from sklearn.tree import DecisionTreeClassifier\n",
    "\n",
    "# initialise and fit model\n",
    "dt = DecisionTreeClassifier(criterion='entropy', random_state=42)\n",
    "dt.fit(X_train_encoded, y_train)"
   ]
  },
  {
   "cell_type": "code",
   "execution_count": 26,
   "id": "49a833f0",
   "metadata": {
    "scrolled": true
   },
   "outputs": [
    {
     "name": "stdout",
     "output_type": "stream",
     "text": [
      "Classification Report:\n",
      "              precision    recall  f1-score   support\n",
      "\n",
      "           0       0.95      0.96      0.96       857\n",
      "           1       0.75      0.70      0.72       143\n",
      "\n",
      "    accuracy                           0.92      1000\n",
      "   macro avg       0.85      0.83      0.84      1000\n",
      "weighted avg       0.92      0.92      0.92      1000\n",
      "\n",
      "AUC Score: 0.830397140782205\n",
      "\n",
      "train accuracy:  1.0\n",
      "test accuracy:  0.924\n"
     ]
    }
   ],
   "source": [
    "# evaluate the model\n",
    "evaluate_model(dt, X_train_encoded, X_test_encoded, y_train, y_test)"
   ]
  },
  {
   "cell_type": "markdown",
   "id": "abc659b5",
   "metadata": {},
   "source": [
    "**Evaluation**  \n",
    "The baseline decision tree produced a strong balance of precision and recall for both churners and non-churners, with a churn recall of **0.70** — a serviceable outcome that supports the business goal of retaining at-risk customers. However, the perfect training accuracy (**1.0**) raises concerns about overfitting, suggesting the model may have learned noise in the training data rather than generalisable patterns. To address this, the next step is to tune the decision tree's hyperparameters to reduce its complexity and improve its generalisation to unseen data."
   ]
  },
  {
   "cell_type": "markdown",
   "id": "74d30d5b",
   "metadata": {},
   "source": [
    "### Decision Tree - Tuned\n",
    "Hyperparameter tuning is the process of setting model parameters before the model has learned anything. With decision trees this is called tree pruning and is used to counteract underfitting/overfitting. Parameters to prune include but are not limited to **maximum depth, minimum sample splits and minimum sample leafs**. They will all be investigated below and will use a graph, plotting the train and test AUC score over various runs, to select optimal parameters."
   ]
  },
  {
   "cell_type": "markdown",
   "id": "8b9785f0",
   "metadata": {},
   "source": [
    "#### Max Depth\n",
    "The maximum number of 'questions' the tree can ask."
   ]
  },
  {
   "cell_type": "code",
   "execution_count": 27,
   "id": "f08fc7db",
   "metadata": {},
   "outputs": [
    {
     "data": {
      "image/png": "[encoded data removed]",
      "text/plain": [
       "<Figure size 864x432 with 1 Axes>"
      ]
     },
     "metadata": {
      "needs_background": "light"
     },
     "output_type": "display_data"
    }
   ],
   "source": [
    "# identify the optimal tree depth for given data\n",
    "max_depths = list(range(1, 33))\n",
    "train_results = []\n",
    "test_results = []\n",
    "\n",
    "for max_depth in max_depths:\n",
    "    dt = DecisionTreeClassifier(criterion='entropy', class_weight='balanced', max_depth=max_depth, random_state=42)\n",
    "    dt.fit(X_train_encoded, y_train)\n",
    "\n",
    "    # predict probabilities\n",
    "    train_probs = dt.predict_proba(X_train_encoded)[:, 1]\n",
    "    test_probs = dt.predict_proba(X_test_encoded)[:, 1]\n",
    "\n",
    "    # calculate AUC scores\n",
    "    train_auc = roc_auc_score(y_train, train_probs)\n",
    "    test_auc = roc_auc_score(y_test, test_probs)\n",
    "\n",
    "    train_results.append(train_auc)\n",
    "    test_results.append(test_auc)\n",
    "\n",
    "# plotting\n",
    "plt.figure(figsize=(12,6))\n",
    "plt.plot(max_depths, train_results, 'b', label='Train AUC')\n",
    "plt.plot(max_depths, test_results, 'r', label='Test AUC')\n",
    "plt.xlabel('Tree Depth')\n",
    "plt.ylabel('AUC Score')\n",
    "plt.title('AUC vs Tree Depth')\n",
    "plt.legend()\n",
    "plt.grid(True)\n",
    "plt.tight_layout()\n",
    "plt.show()"
   ]
  },
  {
   "cell_type": "markdown",
   "id": "073c3d1d",
   "metadata": {},
   "source": [
    "The training error decreases as the tree depth increases, even reaching a value of 1, which would be a clear sign of overfitting. The error seems lowest at a depth of around 4 and 5, before seeing a significant increase.The optimal value we have identified is **5**."
   ]
  },
  {
   "cell_type": "markdown",
   "id": "dbcf4be1",
   "metadata": {},
   "source": [
    "#### Min samples splits\n",
    "The minimum number of samples needed to split a node."
   ]
  },
  {
   "cell_type": "code",
   "execution_count": 28,
   "id": "1d26a4f8",
   "metadata": {},
   "outputs": [
    {
     "data": {
      "image/png": "[encoded data removed]",
      "text/plain": [
       "<Figure size 864x432 with 1 Axes>"
      ]
     },
     "metadata": {
      "needs_background": "light"
     },
     "output_type": "display_data"
    }
   ],
   "source": [
    "min_samples_splits = range(2, 51, 2)\n",
    "train_results = []\n",
    "test_results = []\n",
    "\n",
    "for split in min_samples_splits:\n",
    "    dt = DecisionTreeClassifier(criterion='entropy', class_weight='balanced', min_samples_split=split, random_state=42)\n",
    "    dt.fit(X_train_encoded, y_train)\n",
    "    \n",
    "    train_probs = dt.predict_proba(X_train_encoded)[:, 1]\n",
    "    test_probs = dt.predict_proba(X_test_encoded)[:, 1]\n",
    "    \n",
    "    train_results.append(roc_auc_score(y_train, train_probs))\n",
    "    test_results.append(roc_auc_score(y_test, test_probs))\n",
    "\n",
    "plt.figure(figsize=(12,6))\n",
    "plt.plot(min_samples_splits, train_results, 'b', label='Train AUC')\n",
    "plt.plot(min_samples_splits, test_results, 'r', label='Test AUC')\n",
    "plt.xlabel('min_samples_split')\n",
    "plt.ylabel('AUC Score')\n",
    "plt.title('AUC vs min_samples_split')\n",
    "plt.legend()\n",
    "plt.grid(True)\n",
    "plt.tight_layout()\n",
    "plt.show()"
   ]
  },
  {
   "cell_type": "markdown",
   "id": "5d333a99",
   "metadata": {},
   "source": [
    "When the mininum sample splits are low the training error is exceptionally low (overfitting). On the otherhand, the testing error starts off high but gradually decreases as the minimum sample split increases. This increases steadies of at a split of around **20** making it the optimal value."
   ]
  },
  {
   "cell_type": "markdown",
   "id": "7eb9ada4",
   "metadata": {},
   "source": [
    "#### Min sample leafs\n",
    "The minimum number of samples required in a leaf."
   ]
  },
  {
   "cell_type": "code",
   "execution_count": 29,
   "id": "b9e1a25c",
   "metadata": {},
   "outputs": [
    {
     "data": {
      "image/png": "[encoded data removed]",
      "text/plain": [
       "<Figure size 864x432 with 1 Axes>"
      ]
     },
     "metadata": {
      "needs_background": "light"
     },
     "output_type": "display_data"
    }
   ],
   "source": [
    "min_samples_leafs = range(1, 16, 2)\n",
    "train_results = []\n",
    "test_results = []\n",
    "\n",
    "for leaf in min_samples_leafs:\n",
    "    dt = DecisionTreeClassifier(criterion='entropy', class_weight='balanced', min_samples_leaf=leaf, random_state=42)\n",
    "    dt.fit(X_train_encoded, y_train)\n",
    "    \n",
    "    train_probs = dt.predict_proba(X_train_encoded)[:, 1]\n",
    "    test_probs = dt.predict_proba(X_test_encoded)[:, 1]\n",
    "    \n",
    "    train_results.append(roc_auc_score(y_train, train_probs))\n",
    "    test_results.append(roc_auc_score(y_test, test_probs))\n",
    "\n",
    "plt.figure(figsize=(12,6))\n",
    "plt.plot(min_samples_leafs, train_results, 'b', label='Train AUC')\n",
    "plt.plot(min_samples_leafs, test_results, 'r', label='Test AUC')\n",
    "plt.xlabel('min_samples_leaf')\n",
    "plt.ylabel('AUC Score')\n",
    "plt.title('AUC vs min_samples_leaf')\n",
    "plt.legend()\n",
    "plt.grid(True)\n",
    "plt.tight_layout()\n",
    "plt.show()"
   ]
  },
  {
   "cell_type": "markdown",
   "id": "7cbd488f",
   "metadata": {},
   "source": [
    "Similar to minimum sample splits,  the training error starts of at 0 (overfitting) but increases as the size of sample leafs increases. Furthermore, the testing error decreases as the sample leafs increases but this steadies off at a value of **5**, highlighting it as optimal"
   ]
  },
  {
   "cell_type": "markdown",
   "id": "09006bb7",
   "metadata": {},
   "source": [
    "#### Input values into model"
   ]
  },
  {
   "cell_type": "code",
   "execution_count": 30,
   "id": "a625547e",
   "metadata": {},
   "outputs": [
    {
     "name": "stdout",
     "output_type": "stream",
     "text": [
      "Classification Report:\n",
      "              precision    recall  f1-score   support\n",
      "\n",
      "           0       0.97      0.96      0.97       857\n",
      "           1       0.79      0.83      0.81       143\n",
      "\n",
      "    accuracy                           0.94      1000\n",
      "   macro avg       0.88      0.89      0.89      1000\n",
      "weighted avg       0.94      0.94      0.94      1000\n",
      "\n",
      "AUC Score: 0.9094540232229847\n",
      "\n",
      "train accuracy:  0.9425632233176168\n",
      "test accuracy:  0.943\n"
     ]
    }
   ],
   "source": [
    "# tune the model hyperparameters using the information above\n",
    "dt_tuned = DecisionTreeClassifier(\n",
    "    max_depth=5,\n",
    "    min_samples_split=20,\n",
    "    min_samples_leaf= 5,\n",
    "    class_weight='balanced',\n",
    "    random_state=42\n",
    ")\n",
    "\n",
    "# fit the model\n",
    "dt_tuned.fit(X_train_encoded, y_train)\n",
    "\n",
    "# evaluate the model\n",
    "evaluate_model(dt_tuned, X_train_encoded, X_test_encoded, y_train, y_test)"
   ]
  },
  {
   "cell_type": "markdown",
   "id": "9129d55a",
   "metadata": {},
   "source": [
    "**Evaluation**  \n",
    "The tuned decision tree produced the highest recall for churned customers at **0.83** — a critical achievement given the project's goal of proactively identifying and retaining at-risk customers. The overfitting observed in the baseline decision tree has been successfully mitigated, with training and testing accuracy nearly identical, indicating improved generalisation. Additionally, this model achieved the highest AUC score across all iterations, demonstrating superior ability to distinguish between churners and non-churners. These results make it a strong candidate for deployment."
   ]
  },
  {
   "cell_type": "markdown",
   "id": "35cab0c1",
   "metadata": {},
   "source": [
    "## Final model\n",
    "After evaluating several models, I selected the tuned Decision Tree classifier with class balancing and optimized hyperparameters as the final model. The decision was influenced by various performance metrics, the nature of the business problem and the context of the dataset. The tuned Decision Tree addressed this by significantly improving recall and F1-score for the churners, without sacrificing accurac.\n",
    "\n",
    "The baseline (logistic regression) offered good overall accuracy but poor recall on churners. This suggested it struggled to correctly identify churners, which is a major issue when trying to address customer retention. The tuned Decision Tree addressed this by significantly improving recall and F1-score for the churners, without sacrificing accuracy.  \n",
    "The final model achieved an **accuracy of 94.3%**, but more importantly, it produced a **recall of 83%** and an **F1-score of 81% for churners**. These values indicate that the model is able to identify a large portion of customers at risk of churning whilst balancing precision to avoid false positives. The model’s **AUC score of 0.91** further confirmed its ability to distinguish between churners and non-churners across all thresholds — a critical factor given the class imbalance observed during EDA. Furthermore, the hyperparameters and class balancing performed on the decision tree classifier avoid the likely overfitting of the default parameter decision tree classifier.\n",
    "\n",
    "The choice of a Decision Tree model is also justified by its interpretability, which is important for corporate support and real-world deployment. The logic behind a workings of a decision tree are easy to understand/explain. With further investigation into the features used in the model, various departments/teams can leverage that knowledge to devise targeted customer retention schemes. Overall, the tuned Decision Tree classifier performed well from a metrics standpoint whilst remaining very appropriate to the business context."
   ]
  },
  {
   "cell_type": "markdown",
   "id": "17a2a118",
   "metadata": {},
   "source": [
    "## Conclusion"
   ]
  },
  {
   "cell_type": "markdown",
   "id": "27e3c9f4",
   "metadata": {},
   "source": [
    "### Limitations\n",
    "From a dataset perspective, other factors that could influence churn (i.e. customer age, competitor pricing) could make it a more robust analyis/model. The utility of the model is limited by the limited range of data used. Furthermore, the dataset is very imbalanced regarding the churn classes. Whilst this was addressed by class balancing, it's possible the imbalance still influenced the results of the model.\n",
    "\n",
    "When looking at the model, decision tree classifiers are prone to overfitting, even after class balancing and tuning hyperparameters. The models are naturally susceptible to noise, so it's real world performance isn't assured to be as strong as on the test data.\n",
    "\n",
    "There are also various other classifications models that theoretically could perform better, such as CART regression, but couldn't be tested due to time constraints."
   ]
  },
  {
   "cell_type": "markdown",
   "id": "4666c200",
   "metadata": {},
   "source": [
    "### Recommendations\n",
    "Future models can use other approaches to data preprocessing to see its impact on model performance. This includes feature engineering columns such as 'total calls' or 'total minutes' to substitute more segmented columns like 'total evening calls'. Additionally, the approach to splitting train and test data could be also be explored further. This could be using a different proportion of test size or using cross validation instead.\n",
    "\n",
    "To tackle to class imbalance issue, techniques such as SMOTE (Synthetic Minority Over-sampling Technique) could be a powerful tool to explore. Additionally, as the dataset grows, undersampling of non-churners could become a viable possibility."
   ]
  },
  {
   "cell_type": "markdown",
   "id": "b53cd8cb",
   "metadata": {},
   "source": [
    "### Next steps\n",
    "The next step would be to test this model on real-world/real-time data to evaluate its performance. If successful, this model can be used to intervene in situations where customer churn is increasing in likelihood. The model would need to constantly monitored over time to keep up with industry and behaviorable trends.\n",
    "Additionally, the model can be used and monitored and testing different forms of customer retention schemes to see how they actually impact churn prevention."
   ]
  }
 ],
 "metadata": {
  "kernelspec": {
   "display_name": "Python (learn-env)",
   "language": "python",
   "name": "learn-env"
  },
  "language_info": {
   "codemirror_mode": {
    "name": "ipython",
    "version": 3
   },
   "file_extension": ".py",
   "mimetype": "text/x-python",
   "name": "python",
   "nbconvert_exporter": "python",
   "pygments_lexer": "ipython3",
   "version": "3.8.5"
  }
 },
 "nbformat": 4,
 "nbformat_minor": 5
}
